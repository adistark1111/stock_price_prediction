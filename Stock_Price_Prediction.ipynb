{
 "cells": [
  {
   "cell_type": "code",
   "execution_count": 1,
   "metadata": {
    "colab": {
     "base_uri": "https://localhost:8080/",
     "height": 72
    },
    "colab_type": "code",
    "id": "kmYWIn6XdSlR",
    "outputId": "4c38e90e-bab1-40da-fe54-d1290b2582f4"
   },
   "outputs": [],
   "source": [
    "import math\n",
    "import pandas_datareader as web\n",
    "import numpy as np\n",
    "import pandas as pd\n",
    "import matplotlib.pyplot as plt"
   ]
  },
  {
   "cell_type": "code",
   "execution_count": 2,
   "metadata": {
    "colab": {},
    "colab_type": "code",
    "id": "lvwuLgZEdSlc"
   },
   "outputs": [],
   "source": [
    "df=web.DataReader('AAPL',data_source='yahoo',start='2012-01-01',end='2019-12-17')"
   ]
  },
  {
   "cell_type": "code",
   "execution_count": 3,
   "metadata": {
    "colab": {
     "base_uri": "https://localhost:8080/",
     "height": 436
    },
    "colab_type": "code",
    "id": "5pE5-2GIdSlj",
    "outputId": "6cd3de4b-91ae-4d24-eb56-789e062da099",
    "scrolled": true
   },
   "outputs": [
    {
     "data": {
      "text/html": [
       "<div>\n",
       "<style scoped>\n",
       "    .dataframe tbody tr th:only-of-type {\n",
       "        vertical-align: middle;\n",
       "    }\n",
       "\n",
       "    .dataframe tbody tr th {\n",
       "        vertical-align: top;\n",
       "    }\n",
       "\n",
       "    .dataframe thead th {\n",
       "        text-align: right;\n",
       "    }\n",
       "</style>\n",
       "<table border=\"1\" class=\"dataframe\">\n",
       "  <thead>\n",
       "    <tr style=\"text-align: right;\">\n",
       "      <th></th>\n",
       "      <th>High</th>\n",
       "      <th>Low</th>\n",
       "      <th>Open</th>\n",
       "      <th>Close</th>\n",
       "      <th>Volume</th>\n",
       "      <th>Adj Close</th>\n",
       "    </tr>\n",
       "    <tr>\n",
       "      <th>Date</th>\n",
       "      <th></th>\n",
       "      <th></th>\n",
       "      <th></th>\n",
       "      <th></th>\n",
       "      <th></th>\n",
       "      <th></th>\n",
       "    </tr>\n",
       "  </thead>\n",
       "  <tbody>\n",
       "    <tr>\n",
       "      <th>2012-01-03</th>\n",
       "      <td>14.732142</td>\n",
       "      <td>14.607142</td>\n",
       "      <td>14.621428</td>\n",
       "      <td>14.686786</td>\n",
       "      <td>302220800.0</td>\n",
       "      <td>12.691425</td>\n",
       "    </tr>\n",
       "    <tr>\n",
       "      <th>2012-01-04</th>\n",
       "      <td>14.810000</td>\n",
       "      <td>14.617143</td>\n",
       "      <td>14.642858</td>\n",
       "      <td>14.765715</td>\n",
       "      <td>260022000.0</td>\n",
       "      <td>12.759631</td>\n",
       "    </tr>\n",
       "    <tr>\n",
       "      <th>2012-01-05</th>\n",
       "      <td>14.948215</td>\n",
       "      <td>14.738214</td>\n",
       "      <td>14.819643</td>\n",
       "      <td>14.929643</td>\n",
       "      <td>271269600.0</td>\n",
       "      <td>12.901293</td>\n",
       "    </tr>\n",
       "    <tr>\n",
       "      <th>2012-01-06</th>\n",
       "      <td>15.098214</td>\n",
       "      <td>14.972143</td>\n",
       "      <td>14.991786</td>\n",
       "      <td>15.085714</td>\n",
       "      <td>318292800.0</td>\n",
       "      <td>13.036158</td>\n",
       "    </tr>\n",
       "    <tr>\n",
       "      <th>2012-01-09</th>\n",
       "      <td>15.276786</td>\n",
       "      <td>15.048214</td>\n",
       "      <td>15.196428</td>\n",
       "      <td>15.061786</td>\n",
       "      <td>394024400.0</td>\n",
       "      <td>13.015480</td>\n",
       "    </tr>\n",
       "    <tr>\n",
       "      <th>...</th>\n",
       "      <td>...</td>\n",
       "      <td>...</td>\n",
       "      <td>...</td>\n",
       "      <td>...</td>\n",
       "      <td>...</td>\n",
       "      <td>...</td>\n",
       "    </tr>\n",
       "    <tr>\n",
       "      <th>2019-12-11</th>\n",
       "      <td>67.775002</td>\n",
       "      <td>67.125000</td>\n",
       "      <td>67.202499</td>\n",
       "      <td>67.692497</td>\n",
       "      <td>78756800.0</td>\n",
       "      <td>67.228699</td>\n",
       "    </tr>\n",
       "    <tr>\n",
       "      <th>2019-12-12</th>\n",
       "      <td>68.139999</td>\n",
       "      <td>66.830002</td>\n",
       "      <td>66.945000</td>\n",
       "      <td>67.864998</td>\n",
       "      <td>137310400.0</td>\n",
       "      <td>67.400017</td>\n",
       "    </tr>\n",
       "    <tr>\n",
       "      <th>2019-12-13</th>\n",
       "      <td>68.824997</td>\n",
       "      <td>67.732498</td>\n",
       "      <td>67.864998</td>\n",
       "      <td>68.787498</td>\n",
       "      <td>133587600.0</td>\n",
       "      <td>68.316193</td>\n",
       "    </tr>\n",
       "    <tr>\n",
       "      <th>2019-12-16</th>\n",
       "      <td>70.197502</td>\n",
       "      <td>69.245003</td>\n",
       "      <td>69.250000</td>\n",
       "      <td>69.964996</td>\n",
       "      <td>128186000.0</td>\n",
       "      <td>69.485619</td>\n",
       "    </tr>\n",
       "    <tr>\n",
       "      <th>2019-12-17</th>\n",
       "      <td>70.442497</td>\n",
       "      <td>69.699997</td>\n",
       "      <td>69.892502</td>\n",
       "      <td>70.102501</td>\n",
       "      <td>114158400.0</td>\n",
       "      <td>69.622192</td>\n",
       "    </tr>\n",
       "  </tbody>\n",
       "</table>\n",
       "<p>2003 rows × 6 columns</p>\n",
       "</div>"
      ],
      "text/plain": [
       "                 High        Low       Open      Close       Volume  Adj Close\n",
       "Date                                                                          \n",
       "2012-01-03  14.732142  14.607142  14.621428  14.686786  302220800.0  12.691425\n",
       "2012-01-04  14.810000  14.617143  14.642858  14.765715  260022000.0  12.759631\n",
       "2012-01-05  14.948215  14.738214  14.819643  14.929643  271269600.0  12.901293\n",
       "2012-01-06  15.098214  14.972143  14.991786  15.085714  318292800.0  13.036158\n",
       "2012-01-09  15.276786  15.048214  15.196428  15.061786  394024400.0  13.015480\n",
       "...               ...        ...        ...        ...          ...        ...\n",
       "2019-12-11  67.775002  67.125000  67.202499  67.692497   78756800.0  67.228699\n",
       "2019-12-12  68.139999  66.830002  66.945000  67.864998  137310400.0  67.400017\n",
       "2019-12-13  68.824997  67.732498  67.864998  68.787498  133587600.0  68.316193\n",
       "2019-12-16  70.197502  69.245003  69.250000  69.964996  128186000.0  69.485619\n",
       "2019-12-17  70.442497  69.699997  69.892502  70.102501  114158400.0  69.622192\n",
       "\n",
       "[2003 rows x 6 columns]"
      ]
     },
     "execution_count": 3,
     "metadata": {},
     "output_type": "execute_result"
    }
   ],
   "source": [
    "df"
   ]
  },
  {
   "cell_type": "code",
   "execution_count": 4,
   "metadata": {
    "colab": {
     "base_uri": "https://localhost:8080/",
     "height": 521
    },
    "colab_type": "code",
    "id": "Rwxs_nu3dSlx",
    "outputId": "8a16f771-9fc9-447b-8a44-be53eb5b70ba"
   },
   "outputs": [
    {
     "data": {
      "image/png": "[encoded data removed]",
      "text/plain": [
       "<Figure size 1152x576 with 1 Axes>"
      ]
     },
     "metadata": {
      "needs_background": "light"
     },
     "output_type": "display_data"
    }
   ],
   "source": [
    "plt.figure(figsize=(16,8))\n",
    "plt.title('Close Price History')\n",
    "plt.plot(df['Close'])\n",
    "plt.xlabel('Date', fontsize=18)\n",
    "plt.ylabel('Close Price USD ($)',fontsize=18)\n",
    "plt.show()"
   ]
  },
  {
   "cell_type": "code",
   "execution_count": 5,
   "metadata": {},
   "outputs": [
    {
     "name": "stdout",
     "output_type": "stream",
     "text": [
      "<class 'pandas.core.frame.DataFrame'>\n",
      "                Close\n",
      "Date                 \n",
      "2012-01-03  14.686786\n",
      "2012-01-04  14.765715\n",
      "2012-01-05  14.929643\n",
      "2012-01-06  15.085714\n",
      "2012-01-09  15.061786\n",
      "2012-01-10  15.115714\n",
      "2012-01-11  15.091071\n",
      "2012-01-12  15.049643\n",
      "2012-01-13  14.993215\n",
      "2012-01-17  15.167857\n",
      "2012-01-18  15.325357\n",
      "2012-01-19  15.276786\n",
      "2012-01-20  15.010715\n",
      "2012-01-23  15.264643\n",
      "2012-01-24  15.014643\n",
      "2012-01-25  15.952143\n",
      "2012-01-26  15.879642\n",
      "2012-01-27  15.974286\n",
      "2012-01-30  16.178928\n"
     ]
    }
   ],
   "source": [
    "data=df.filter(['Close'])\n",
    "print(type(data))\n",
    "print(data.head(19))"
   ]
  },
  {
   "cell_type": "code",
   "execution_count": 6,
   "metadata": {},
   "outputs": [
    {
     "name": "stdout",
     "output_type": "stream",
     "text": [
      "<class 'numpy.ndarray'>\n",
      "[[14.6867857 ]\n",
      " [14.76571465]\n",
      " [14.92964268]\n",
      " ...\n",
      " [68.78749847]\n",
      " [69.96499634]\n",
      " [70.10250092]]\n"
     ]
    }
   ],
   "source": [
    "dataset=data.values\n",
    "print(type(dataset))\n",
    "print(dataset)"
   ]
  },
  {
   "cell_type": "code",
   "execution_count": 7,
   "metadata": {
    "colab": {
     "base_uri": "https://localhost:8080/",
     "height": 34
    },
    "colab_type": "code",
    "id": "5SAT8G8bdSl5",
    "outputId": "b9c9ae38-b4ff-4add-abc9-c6bc5a92bd45"
   },
   "outputs": [
    {
     "data": {
      "text/plain": [
       "1603"
      ]
     },
     "execution_count": 7,
     "metadata": {},
     "output_type": "execute_result"
    }
   ],
   "source": [
    "\n",
    "training_data_len = math.ceil(len(dataset)*0.8)\n",
    "training_data_len"
   ]
  },
  {
   "cell_type": "code",
   "execution_count": 8,
   "metadata": {},
   "outputs": [
    {
     "data": {
      "text/plain": [
       "2003"
      ]
     },
     "execution_count": 8,
     "metadata": {},
     "output_type": "execute_result"
    }
   ],
   "source": [
    "len(dataset)"
   ]
  },
  {
   "cell_type": "code",
   "execution_count": 9,
   "metadata": {
    "colab": {
     "base_uri": "https://localhost:8080/",
     "height": 141
    },
    "colab_type": "code",
    "id": "eqaZa39zdSmB",
    "outputId": "97fc712b-5102-4526-d351-bd48eeb6c424"
   },
   "outputs": [
    {
     "data": {
      "text/plain": [
       "array([[0.01316509],\n",
       "       [0.01457064],\n",
       "       [0.01748985],\n",
       "       ...,\n",
       "       [0.97658263],\n",
       "       [0.99755134],\n",
       "       [1.        ]])"
      ]
     },
     "execution_count": 9,
     "metadata": {},
     "output_type": "execute_result"
    }
   ],
   "source": [
    "from sklearn.preprocessing import MinMaxScaler\n",
    "\n",
    "scaler=MinMaxScaler(feature_range=(0,1))\n",
    "\n",
    "scaled_data=scaler.fit_transform(dataset)\n",
    "\n",
    "scaled_data"
   ]
  },
  {
   "cell_type": "code",
   "execution_count": 10,
   "metadata": {},
   "outputs": [
    {
     "name": "stdout",
     "output_type": "stream",
     "text": [
      "[[0.01316509]\n",
      " [0.01457064]\n",
      " [0.01748985]\n",
      " ...\n",
      " [0.58926183]\n",
      " [0.58164901]\n",
      " [0.58939538]]\n"
     ]
    }
   ],
   "source": [
    "train_data = scaled_data[0:training_data_len,:]\n",
    "print(train_data)"
   ]
  },
  {
   "cell_type": "code",
   "execution_count": 11,
   "metadata": {
    "colab": {
     "base_uri": "https://localhost:8080/",
     "height": 265
    },
    "colab_type": "code",
    "id": "HUQ_hfcOdSmK",
    "outputId": "51a4e4a6-478f-464f-b3fe-0e10f148b267",
    "scrolled": true
   },
   "outputs": [
    {
     "name": "stdout",
     "output_type": "stream",
     "text": [
      "[array([0.01316509, 0.01457064, 0.01748985, 0.02026915, 0.01984303,\n",
      "       0.02080338, 0.02036454, 0.01962679, 0.01862193, 0.02173194,\n",
      "       0.02453668, 0.02367172, 0.01893356, 0.02345548, 0.01900352,\n",
      "       0.03569838, 0.03440731, 0.0360927 , 0.03973694, 0.04194384,\n",
      "       0.0417594 , 0.0410789 , 0.04397903, 0.04670744, 0.04979839,\n",
      "       0.05479095, 0.0652785 , 0.06543749, 0.07127594, 0.07563885,\n",
      "       0.06814046, 0.07102789, 0.07097066, 0.07906688, 0.07791571,\n",
      "       0.08004628, 0.08387497, 0.08600558, 0.09214292, 0.09661397,\n",
      "       0.09790501, 0.09835659, 0.09071194, 0.08886753, 0.08914103,\n",
      "       0.09632775, 0.09835024, 0.10269405, 0.11293358, 0.12659476,\n",
      "       0.12403805, 0.1240444 , 0.13392141, 0.13701233, 0.13481179,\n",
      "       0.13280207, 0.13070964, 0.13766105, 0.14243103, 0.14442805])]\n",
      "[0.13949272033425864]\n",
      "\n",
      "[array([0.01316509, 0.01457064, 0.01748985, 0.02026915, 0.01984303,\n",
      "       0.02080338, 0.02036454, 0.01962679, 0.01862193, 0.02173194,\n",
      "       0.02453668, 0.02367172, 0.01893356, 0.02345548, 0.01900352,\n",
      "       0.03569838, 0.03440731, 0.0360927 , 0.03973694, 0.04194384,\n",
      "       0.0417594 , 0.0410789 , 0.04397903, 0.04670744, 0.04979839,\n",
      "       0.05479095, 0.0652785 , 0.06543749, 0.07127594, 0.07563885,\n",
      "       0.06814046, 0.07102789, 0.07097066, 0.07906688, 0.07791571,\n",
      "       0.08004628, 0.08387497, 0.08600558, 0.09214292, 0.09661397,\n",
      "       0.09790501, 0.09835659, 0.09071194, 0.08886753, 0.08914103,\n",
      "       0.09632775, 0.09835024, 0.10269405, 0.11293358, 0.12659476,\n",
      "       0.12403805, 0.1240444 , 0.13392141, 0.13701233, 0.13481179,\n",
      "       0.13280207, 0.13070964, 0.13766105, 0.14243103, 0.14442805]), array([0.01457064, 0.01748985, 0.02026915, 0.01984303, 0.02080338,\n",
      "       0.02036454, 0.01962679, 0.01862193, 0.02173194, 0.02453668,\n",
      "       0.02367172, 0.01893356, 0.02345548, 0.01900352, 0.03569838,\n",
      "       0.03440731, 0.0360927 , 0.03973694, 0.04194384, 0.0417594 ,\n",
      "       0.0410789 , 0.04397903, 0.04670744, 0.04979839, 0.05479095,\n",
      "       0.0652785 , 0.06543749, 0.07127594, 0.07563885, 0.06814046,\n",
      "       0.07102789, 0.07097066, 0.07906688, 0.07791571, 0.08004628,\n",
      "       0.08387497, 0.08600558, 0.09214292, 0.09661397, 0.09790501,\n",
      "       0.09835659, 0.09071194, 0.08886753, 0.08914103, 0.09632775,\n",
      "       0.09835024, 0.10269405, 0.11293358, 0.12659476, 0.12403805,\n",
      "       0.1240444 , 0.13392141, 0.13701233, 0.13481179, 0.13280207,\n",
      "       0.13070964, 0.13766105, 0.14243103, 0.14442805, 0.13949272])]\n",
      "[0.13949272033425864, 0.13293562570222134]\n",
      "\n",
      "[array([0.01316509, 0.01457064, 0.01748985, 0.02026915, 0.01984303,\n",
      "       0.02080338, 0.02036454, 0.01962679, 0.01862193, 0.02173194,\n",
      "       0.02453668, 0.02367172, 0.01893356, 0.02345548, 0.01900352,\n",
      "       0.03569838, 0.03440731, 0.0360927 , 0.03973694, 0.04194384,\n",
      "       0.0417594 , 0.0410789 , 0.04397903, 0.04670744, 0.04979839,\n",
      "       0.05479095, 0.0652785 , 0.06543749, 0.07127594, 0.07563885,\n",
      "       0.06814046, 0.07102789, 0.07097066, 0.07906688, 0.07791571,\n",
      "       0.08004628, 0.08387497, 0.08600558, 0.09214292, 0.09661397,\n",
      "       0.09790501, 0.09835659, 0.09071194, 0.08886753, 0.08914103,\n",
      "       0.09632775, 0.09835024, 0.10269405, 0.11293358, 0.12659476,\n",
      "       0.12403805, 0.1240444 , 0.13392141, 0.13701233, 0.13481179,\n",
      "       0.13280207, 0.13070964, 0.13766105, 0.14243103, 0.14442805]), array([0.01457064, 0.01748985, 0.02026915, 0.01984303, 0.02080338,\n",
      "       0.02036454, 0.01962679, 0.01862193, 0.02173194, 0.02453668,\n",
      "       0.02367172, 0.01893356, 0.02345548, 0.01900352, 0.03569838,\n",
      "       0.03440731, 0.0360927 , 0.03973694, 0.04194384, 0.0417594 ,\n",
      "       0.0410789 , 0.04397903, 0.04670744, 0.04979839, 0.05479095,\n",
      "       0.0652785 , 0.06543749, 0.07127594, 0.07563885, 0.06814046,\n",
      "       0.07102789, 0.07097066, 0.07906688, 0.07791571, 0.08004628,\n",
      "       0.08387497, 0.08600558, 0.09214292, 0.09661397, 0.09790501,\n",
      "       0.09835659, 0.09071194, 0.08886753, 0.08914103, 0.09632775,\n",
      "       0.09835024, 0.10269405, 0.11293358, 0.12659476, 0.12403805,\n",
      "       0.1240444 , 0.13392141, 0.13701233, 0.13481179, 0.13280207,\n",
      "       0.13070964, 0.13766105, 0.14243103, 0.14442805, 0.13949272]), array([0.01748985, 0.02026915, 0.01984303, 0.02080338, 0.02036454,\n",
      "       0.01962679, 0.01862193, 0.02173194, 0.02453668, 0.02367172,\n",
      "       0.01893356, 0.02345548, 0.01900352, 0.03569838, 0.03440731,\n",
      "       0.0360927 , 0.03973694, 0.04194384, 0.0417594 , 0.0410789 ,\n",
      "       0.04397903, 0.04670744, 0.04979839, 0.05479095, 0.0652785 ,\n",
      "       0.06543749, 0.07127594, 0.07563885, 0.06814046, 0.07102789,\n",
      "       0.07097066, 0.07906688, 0.07791571, 0.08004628, 0.08387497,\n",
      "       0.08600558, 0.09214292, 0.09661397, 0.09790501, 0.09835659,\n",
      "       0.09071194, 0.08886753, 0.08914103, 0.09632775, 0.09835024,\n",
      "       0.10269405, 0.11293358, 0.12659476, 0.12403805, 0.1240444 ,\n",
      "       0.13392141, 0.13701233, 0.13481179, 0.13280207, 0.13070964,\n",
      "       0.13766105, 0.14243103, 0.14442805, 0.13949272, 0.13293563])]\n",
      "[0.13949272033425864, 0.13293562570222134, 0.1450704115800499]\n",
      "\n",
      "[array([0.01316509, 0.01457064, 0.01748985, 0.02026915, 0.01984303,\n",
      "       0.02080338, 0.02036454, 0.01962679, 0.01862193, 0.02173194,\n",
      "       0.02453668, 0.02367172, 0.01893356, 0.02345548, 0.01900352,\n",
      "       0.03569838, 0.03440731, 0.0360927 , 0.03973694, 0.04194384,\n",
      "       0.0417594 , 0.0410789 , 0.04397903, 0.04670744, 0.04979839,\n",
      "       0.05479095, 0.0652785 , 0.06543749, 0.07127594, 0.07563885,\n",
      "       0.06814046, 0.07102789, 0.07097066, 0.07906688, 0.07791571,\n",
      "       0.08004628, 0.08387497, 0.08600558, 0.09214292, 0.09661397,\n",
      "       0.09790501, 0.09835659, 0.09071194, 0.08886753, 0.08914103,\n",
      "       0.09632775, 0.09835024, 0.10269405, 0.11293358, 0.12659476,\n",
      "       0.12403805, 0.1240444 , 0.13392141, 0.13701233, 0.13481179,\n",
      "       0.13280207, 0.13070964, 0.13766105, 0.14243103, 0.14442805]), array([0.01457064, 0.01748985, 0.02026915, 0.01984303, 0.02080338,\n",
      "       0.02036454, 0.01962679, 0.01862193, 0.02173194, 0.02453668,\n",
      "       0.02367172, 0.01893356, 0.02345548, 0.01900352, 0.03569838,\n",
      "       0.03440731, 0.0360927 , 0.03973694, 0.04194384, 0.0417594 ,\n",
      "       0.0410789 , 0.04397903, 0.04670744, 0.04979839, 0.05479095,\n",
      "       0.0652785 , 0.06543749, 0.07127594, 0.07563885, 0.06814046,\n",
      "       0.07102789, 0.07097066, 0.07906688, 0.07791571, 0.08004628,\n",
      "       0.08387497, 0.08600558, 0.09214292, 0.09661397, 0.09790501,\n",
      "       0.09835659, 0.09071194, 0.08886753, 0.08914103, 0.09632775,\n",
      "       0.09835024, 0.10269405, 0.11293358, 0.12659476, 0.12403805,\n",
      "       0.1240444 , 0.13392141, 0.13701233, 0.13481179, 0.13280207,\n",
      "       0.13070964, 0.13766105, 0.14243103, 0.14442805, 0.13949272]), array([0.01748985, 0.02026915, 0.01984303, 0.02080338, 0.02036454,\n",
      "       0.01962679, 0.01862193, 0.02173194, 0.02453668, 0.02367172,\n",
      "       0.01893356, 0.02345548, 0.01900352, 0.03569838, 0.03440731,\n",
      "       0.0360927 , 0.03973694, 0.04194384, 0.0417594 , 0.0410789 ,\n",
      "       0.04397903, 0.04670744, 0.04979839, 0.05479095, 0.0652785 ,\n",
      "       0.06543749, 0.07127594, 0.07563885, 0.06814046, 0.07102789,\n",
      "       0.07097066, 0.07906688, 0.07791571, 0.08004628, 0.08387497,\n",
      "       0.08600558, 0.09214292, 0.09661397, 0.09790501, 0.09835659,\n",
      "       0.09071194, 0.08886753, 0.08914103, 0.09632775, 0.09835024,\n",
      "       0.10269405, 0.11293358, 0.12659476, 0.12403805, 0.1240444 ,\n",
      "       0.13392141, 0.13701233, 0.13481179, 0.13280207, 0.13070964,\n",
      "       0.13766105, 0.14243103, 0.14442805, 0.13949272, 0.13293563]), array([0.02026915, 0.01984303, 0.02080338, 0.02036454, 0.01962679,\n",
      "       0.01862193, 0.02173194, 0.02453668, 0.02367172, 0.01893356,\n",
      "       0.02345548, 0.01900352, 0.03569838, 0.03440731, 0.0360927 ,\n",
      "       0.03973694, 0.04194384, 0.0417594 , 0.0410789 , 0.04397903,\n",
      "       0.04670744, 0.04979839, 0.05479095, 0.0652785 , 0.06543749,\n",
      "       0.07127594, 0.07563885, 0.06814046, 0.07102789, 0.07097066,\n",
      "       0.07906688, 0.07791571, 0.08004628, 0.08387497, 0.08600558,\n",
      "       0.09214292, 0.09661397, 0.09790501, 0.09835659, 0.09071194,\n",
      "       0.08886753, 0.08914103, 0.09632775, 0.09835024, 0.10269405,\n",
      "       0.11293358, 0.12659476, 0.12403805, 0.1240444 , 0.13392141,\n",
      "       0.13701233, 0.13481179, 0.13280207, 0.13070964, 0.13766105,\n",
      "       0.14243103, 0.14442805, 0.13949272, 0.13293563, 0.14507041])]\n",
      "[0.13949272033425864, 0.13293562570222134, 0.1450704115800499, 0.15186917276638368]\n",
      "\n"
     ]
    }
   ],
   "source": [
    "X_train=[]\n",
    "y_train=[]\n",
    "for i in range(60,len(train_data)):\n",
    "    # 0, 1, 2, ..., 1603-60\n",
    "    # 60,61,62,...,1603\n",
    "    \n",
    "    X_train.append(train_data[i-60:i,0]) #0-59\n",
    "    \n",
    "    y_train.append(train_data[i,0])       #60th\n",
    "    \n",
    "    if i<=63:\n",
    "        print(X_train)\n",
    "        print(y_train)\n",
    "        print()"
   ]
  },
  {
   "cell_type": "code",
   "execution_count": 12,
   "metadata": {
    "colab": {
     "base_uri": "https://localhost:8080/",
     "height": 141
    },
    "colab_type": "code",
    "id": "WToqlllpdSmS",
    "outputId": "8b94508c-42e2-405c-9a75-2449a1fbcad5",
    "scrolled": false
   },
   "outputs": [
    {
     "name": "stdout",
     "output_type": "stream",
     "text": [
      "[[0.01316509 0.01457064 0.01748985 ... 0.13766105 0.14243103 0.14442805]\n",
      " [0.01457064 0.01748985 0.02026915 ... 0.14243103 0.14442805 0.13949272]\n",
      " [0.01748985 0.02026915 0.01984303 ... 0.14442805 0.13949272 0.13293563]\n",
      " ...\n",
      " [0.52177011 0.51927696 0.51669488 ... 0.5857448  0.59767603 0.5912207 ]\n",
      " [0.51927696 0.51669488 0.51322235 ... 0.59767603 0.5912207  0.58926183]\n",
      " [0.51669488 0.51322235 0.51958863 ... 0.5912207  0.58926183 0.58164901]]\n",
      "[0.13949272 0.13293563 0.14507041 ... 0.58926183 0.58164901 0.58939538]\n"
     ]
    }
   ],
   "source": [
    "X_train,y_train=np.array(X_train),np.array(y_train)\n",
    "print(X_train)\n",
    "print(y_train)"
   ]
  },
  {
   "cell_type": "code",
   "execution_count": 13,
   "metadata": {
    "colab": {
     "base_uri": "https://localhost:8080/",
     "height": 34
    },
    "colab_type": "code",
    "id": "BYQcDu95dSmY",
    "outputId": "9930ade6-8777-40c2-f911-ce797e3166db"
   },
   "outputs": [
    {
     "name": "stdout",
     "output_type": "stream",
     "text": [
      "[[[0.01316509]\n",
      "  [0.01457064]\n",
      "  [0.01748985]\n",
      "  ...\n",
      "  [0.13766105]\n",
      "  [0.14243103]\n",
      "  [0.14442805]]\n",
      "\n",
      " [[0.01457064]\n",
      "  [0.01748985]\n",
      "  [0.02026915]\n",
      "  ...\n",
      "  [0.14243103]\n",
      "  [0.14442805]\n",
      "  [0.13949272]]\n",
      "\n",
      " [[0.01748985]\n",
      "  [0.02026915]\n",
      "  [0.01984303]\n",
      "  ...\n",
      "  [0.14442805]\n",
      "  [0.13949272]\n",
      "  [0.13293563]]\n",
      "\n",
      " ...\n",
      "\n",
      " [[0.52177011]\n",
      "  [0.51927696]\n",
      "  [0.51669488]\n",
      "  ...\n",
      "  [0.5857448 ]\n",
      "  [0.59767603]\n",
      "  [0.5912207 ]]\n",
      "\n",
      " [[0.51927696]\n",
      "  [0.51669488]\n",
      "  [0.51322235]\n",
      "  ...\n",
      "  [0.59767603]\n",
      "  [0.5912207 ]\n",
      "  [0.58926183]]\n",
      "\n",
      " [[0.51669488]\n",
      "  [0.51322235]\n",
      "  [0.51958863]\n",
      "  ...\n",
      "  [0.5912207 ]\n",
      "  [0.58926183]\n",
      "  [0.58164901]]]\n"
     ]
    },
    {
     "data": {
      "text/plain": [
       "(1543, 60, 1)"
      ]
     },
     "execution_count": 13,
     "metadata": {},
     "output_type": "execute_result"
    }
   ],
   "source": [
    "X_train=np.reshape(X_train,(X_train.shape[0],X_train.shape[1],1))\n",
    "print(X_train)\n",
    "X_train.shape"
   ]
  },
  {
   "cell_type": "code",
   "execution_count": 14,
   "metadata": {
    "colab": {
     "base_uri": "https://localhost:8080/",
     "height": 887
    },
    "colab_type": "code",
    "id": "jw1OAPVXdSme",
    "outputId": "a9c55c0f-62a5-4c06-bfce-67590591138b"
   },
   "outputs": [
    {
     "data": {
      "text/plain": [
       "array([[[0.01316509],\n",
       "        [0.01457064],\n",
       "        [0.01748985],\n",
       "        ...,\n",
       "        [0.13766105],\n",
       "        [0.14243103],\n",
       "        [0.14442805]],\n",
       "\n",
       "       [[0.01457064],\n",
       "        [0.01748985],\n",
       "        [0.02026915],\n",
       "        ...,\n",
       "        [0.14243103],\n",
       "        [0.14442805],\n",
       "        [0.13949272]],\n",
       "\n",
       "       [[0.01748985],\n",
       "        [0.02026915],\n",
       "        [0.01984303],\n",
       "        ...,\n",
       "        [0.14442805],\n",
       "        [0.13949272],\n",
       "        [0.13293563]],\n",
       "\n",
       "       ...,\n",
       "\n",
       "       [[0.52177011],\n",
       "        [0.51927696],\n",
       "        [0.51669488],\n",
       "        ...,\n",
       "        [0.5857448 ],\n",
       "        [0.59767603],\n",
       "        [0.5912207 ]],\n",
       "\n",
       "       [[0.51927696],\n",
       "        [0.51669488],\n",
       "        [0.51322235],\n",
       "        ...,\n",
       "        [0.59767603],\n",
       "        [0.5912207 ],\n",
       "        [0.58926183]],\n",
       "\n",
       "       [[0.51669488],\n",
       "        [0.51322235],\n",
       "        [0.51958863],\n",
       "        ...,\n",
       "        [0.5912207 ],\n",
       "        [0.58926183],\n",
       "        [0.58164901]]])"
      ]
     },
     "execution_count": 14,
     "metadata": {},
     "output_type": "execute_result"
    }
   ],
   "source": [
    "X_train"
   ]
  },
  {
   "cell_type": "code",
   "execution_count": 15,
   "metadata": {
    "colab": {
     "base_uri": "https://localhost:8080/",
     "height": 34
    },
    "colab_type": "code",
    "id": "6KZG3sU0dSmk",
    "outputId": "7cfe3c6e-f0b8-4368-f23f-f1d7b9e36895",
    "scrolled": true
   },
   "outputs": [],
   "source": [
    "from keras.models import Sequential\n",
    "from keras.layers import LSTM,Dense"
   ]
  },
  {
   "cell_type": "code",
   "execution_count": 16,
   "metadata": {
    "colab": {},
    "colab_type": "code",
    "id": "rwxF7bbFdSmp"
   },
   "outputs": [],
   "source": [
    "model=Sequential()\n",
    "model.add(LSTM(50,return_sequences=True,input_shape=(X_train.shape[1],1)))\n",
    "model.add(LSTM(50,return_sequences=False))\n",
    "model.add(Dense(25))\n",
    "model.add(Dense(1))"
   ]
  },
  {
   "cell_type": "code",
   "execution_count": 17,
   "metadata": {
    "colab": {},
    "colab_type": "code",
    "id": "dX0CL2a3dSmz"
   },
   "outputs": [],
   "source": [
    "model.compile(optimizer='adam',loss='mean_squared_error')"
   ]
  },
  {
   "cell_type": "code",
   "execution_count": 18,
   "metadata": {
    "colab": {
     "base_uri": "https://localhost:8080/",
     "height": 301
    },
    "colab_type": "code",
    "id": "iUi1DdIPe6WF",
    "outputId": "a3c35ce4-9181-4789-eb44-237fad3f9315"
   },
   "outputs": [
    {
     "name": "stdout",
     "output_type": "stream",
     "text": [
      "Model: \"sequential\"\n",
      "_________________________________________________________________\n",
      "Layer (type)                 Output Shape              Param #   \n",
      "=================================================================\n",
      "lstm (LSTM)                  (None, 60, 50)            10400     \n",
      "_________________________________________________________________\n",
      "lstm_1 (LSTM)                (None, 50)                20200     \n",
      "_________________________________________________________________\n",
      "dense (Dense)                (None, 25)                1275      \n",
      "_________________________________________________________________\n",
      "dense_1 (Dense)              (None, 1)                 26        \n",
      "=================================================================\n",
      "Total params: 31,901\n",
      "Trainable params: 31,901\n",
      "Non-trainable params: 0\n",
      "_________________________________________________________________\n"
     ]
    }
   ],
   "source": [
    "model.summary()"
   ]
  },
  {
   "cell_type": "code",
   "execution_count": 19,
   "metadata": {
    "colab": {
     "base_uri": "https://localhost:8080/",
     "height": 465
    },
    "colab_type": "code",
    "id": "n0KbTpK1e-hU",
    "outputId": "9350afcc-18cb-45eb-ec3b-684a60d9b8b0"
   },
   "outputs": [
    {
     "name": "stdout",
     "output_type": "stream",
     "text": [
      "('Failed to import pydot. You must `pip install pydot` and install graphviz (https://graphviz.gitlab.io/download/), ', 'for `pydotprint` to work.')\n"
     ]
    }
   ],
   "source": [
    "import pydot\n",
    "from keras import utils\n",
    "utils.plot_model(model)"
   ]
  },
  {
   "cell_type": "code",
   "execution_count": 20,
   "metadata": {
    "colab": {
     "base_uri": "https://localhost:8080/",
     "height": 70
    },
    "colab_type": "code",
    "id": "Uazf_DlwfoTl",
    "outputId": "41789ed9-066f-43b8-d08c-92910de86bc7"
   },
   "outputs": [
    {
     "name": "stdout",
     "output_type": "stream",
     "text": [
      "Epoch 1/10\n",
      "16/16 [==============================] - 1s 65ms/step - loss: 0.0127\n",
      "Epoch 2/10\n",
      "16/16 [==============================] - 1s 68ms/step - loss: 0.0021\n",
      "Epoch 3/10\n",
      "16/16 [==============================] - 1s 71ms/step - loss: 5.4554e-04\n",
      "Epoch 4/10\n",
      "16/16 [==============================] - 1s 66ms/step - loss: 3.4547e-04\n",
      "Epoch 5/10\n",
      "16/16 [==============================] - 2s 148ms/step - loss: 3.1640e-04\n",
      "Epoch 6/10\n",
      "16/16 [==============================] - 1s 65ms/step - loss: 3.0832e-04\n",
      "Epoch 7/10\n",
      "16/16 [==============================] - 1s 65ms/step - loss: 3.0332e-04\n",
      "Epoch 8/10\n",
      "16/16 [==============================] - 2s 146ms/step - loss: 2.9720e-04\n",
      "Epoch 9/10\n",
      "16/16 [==============================] - 1s 77ms/step - loss: 2.9639e-04\n",
      "Epoch 10/10\n",
      "16/16 [==============================] - 1s 85ms/step - loss: 3.0380e-04\n"
     ]
    },
    {
     "data": {
      "text/plain": [
       "<tensorflow.python.keras.callbacks.History at 0x248306183d0>"
      ]
     },
     "execution_count": 20,
     "metadata": {},
     "output_type": "execute_result"
    }
   ],
   "source": [
    "model.fit(X_train,y_train,batch_size=100,epochs=20)"
   ]
  },
  {
   "cell_type": "code",
   "execution_count": 21,
   "metadata": {
    "colab": {},
    "colab_type": "code",
    "id": "qPWgEbL-gpNO"
   },
   "outputs": [],
   "source": [
    "test_data=scaled_data[training_data_len-60:,:]\n",
    "X_test=[]\n",
    "y_test=dataset[training_data_len:,:]\n",
    "for i in range(60,len(test_data)):\n",
    "    X_test.append(test_data[i-60:i,0])"
   ]
  },
  {
   "cell_type": "code",
   "execution_count": 22,
   "metadata": {
    "colab": {},
    "colab_type": "code",
    "id": "lN4nf3Qjh-0q"
   },
   "outputs": [],
   "source": [
    "X_test=np.array(X_test)"
   ]
  },
  {
   "cell_type": "code",
   "execution_count": 23,
   "metadata": {
    "colab": {
     "base_uri": "https://localhost:8080/",
     "height": 34
    },
    "colab_type": "code",
    "id": "14UmKitihq5v",
    "outputId": "e2836dc1-c2a1-4a18-8a72-3123d988983a"
   },
   "outputs": [
    {
     "data": {
      "text/plain": [
       "(400, 60, 1)"
      ]
     },
     "execution_count": 23,
     "metadata": {},
     "output_type": "execute_result"
    }
   ],
   "source": [
    "X_test = np.reshape(X_test, (X_test.shape[0], X_test.shape[1], 1))\n",
    "X_test.shape"
   ]
  },
  {
   "cell_type": "code",
   "execution_count": 24,
   "metadata": {
    "colab": {},
    "colab_type": "code",
    "id": "twaN3ET4iHd2"
   },
   "outputs": [],
   "source": [
    "predict=model.predict(X_test)\n",
    "predict=scaler.inverse_transform(predict)"
   ]
  },
  {
   "cell_type": "code",
   "execution_count": 25,
   "metadata": {
    "colab": {
     "base_uri": "https://localhost:8080/",
     "height": 34
    },
    "colab_type": "code",
    "id": "u4gSFYG7iXC_",
    "outputId": "0b65764c-c4db-442c-be0b-d54c4b102fb4"
   },
   "outputs": [
    {
     "data": {
      "text/plain": [
       "0.5370376491546631"
      ]
     },
     "execution_count": 25,
     "metadata": {},
     "output_type": "execute_result"
    }
   ],
   "source": [
    "rmse=np.sqrt(np.mean(predict-y_test)**2)\n",
    "rmse"
   ]
  },
  {
   "cell_type": "code",
   "execution_count": 26,
   "metadata": {
    "colab": {},
    "colab_type": "code",
    "id": "cSNBkuR8lMmk"
   },
   "outputs": [],
   "source": [
    "predict = predict.reshape(-1)"
   ]
  },
  {
   "cell_type": "code",
   "execution_count": 27,
   "metadata": {},
   "outputs": [
    {
     "data": {
      "text/plain": [
       "array([45.446888, 45.709103, 45.91921 , 46.09912 , 46.24661 , 46.378902,\n",
       "       46.493683, 46.59667 , 46.68059 , 46.744102, 46.784687, 46.843307,\n",
       "       46.92876 , 47.04461 , 47.183365, 47.32634 , 47.447525, 47.543488,\n",
       "       47.628944, 47.687263, 47.725708, 47.728745, 47.706623, 47.63677 ,\n",
       "       47.546024, 47.43443 , 47.3081  , 47.148705, 46.997356, 46.855415,\n",
       "       46.740147, 46.644028, 46.586597, 46.52386 , 46.475235, 46.46485 ,\n",
       "       46.508118, 46.583622, 46.651802, 46.744328, 46.852398, 46.96186 ,\n",
       "       47.072983, 47.16939 , 47.26694 , 47.356567, 47.438778, 47.526993,\n",
       "       47.634644, 47.74482 , 47.81839 , 47.852505, 47.862217, 47.971752,\n",
       "       48.206593, 48.52357 , 48.893852, 49.263554, 49.61745 , 49.961544,\n",
       "       50.269978, 50.55457 , 50.819984, 51.066353, 51.321377, 51.615807,\n",
       "       51.90309 , 52.16892 , 52.408783, 52.625294, 52.82374 , 53.02    ,\n",
       "       53.22486 , 53.460842, 53.72922 , 54.034893, 54.360256, 54.669544,\n",
       "       54.91561 , 55.0893  , 55.17582 , 55.256348, 55.30164 , 55.376507,\n",
       "       55.442654, 55.439285, 55.392586, 55.32    , 55.25042 , 55.162033,\n",
       "       55.097157, 55.065716, 55.04036 , 55.06666 , 55.134956, 55.244217,\n",
       "       55.396957, 55.600773, 55.788406, 55.918453, 55.997852, 56.070957,\n",
       "       56.029217, 55.891743, 55.77422 , 55.62738 , 55.51692 , 55.426643,\n",
       "       55.30117 , 55.19096 , 55.109585, 55.07272 , 54.98918 , 54.92557 ,\n",
       "       54.84204 , 54.706623, 54.55252 , 54.44962 , 54.420807, 54.29208 ,\n",
       "       54.039543, 53.73577 , 53.474304, 53.238388, 52.988914, 52.63415 ,\n",
       "       52.202507, 51.680386, 51.16735 , 50.70495 , 50.217354, 49.640724,\n",
       "       49.02567 , 48.3634  , 47.721672, 47.117344, 46.634453, 46.24023 ,\n",
       "       45.912598, 45.70859 , 45.51169 , 45.305927, 45.036236, 44.744957,\n",
       "       44.440704, 44.145363, 43.888115, 43.610485, 43.314293, 43.040054,\n",
       "       42.738   , 42.386852, 41.95261 , 41.438812, 41.001396, 40.624603,\n",
       "       40.306416, 40.057457, 39.8678  , 39.560673, 39.24866 , 38.942616,\n",
       "       38.683197, 38.493618, 38.364983, 38.267265, 38.170105, 38.108856,\n",
       "       38.094   , 38.1209  , 38.184937, 38.23434 , 38.277416, 38.30118 ,\n",
       "       38.363552, 38.434708, 38.491806, 38.647438, 38.877037, 39.148388,\n",
       "       39.48582 , 39.88459 , 40.308723, 40.697063, 41.03797 , 41.321323,\n",
       "       41.568573, 41.773697, 41.94835 , 42.091442, 42.21282 , 42.32633 ,\n",
       "       42.420086, 42.516743, 42.624916, 42.737778, 42.85487 , 42.951946,\n",
       "       43.050198, 43.154427, 43.255096, 43.33855 , 43.3855  , 43.409786,\n",
       "       43.48044 , 43.601364, 43.760185, 43.959194, 44.201965, 44.483906,\n",
       "       44.76476 , 45.04936 , 45.396305, 45.72923 , 46.013878, 46.23267 ,\n",
       "       46.414608, 46.566677, 46.705273, 46.842842, 47.0034  , 47.187176,\n",
       "       47.382793, 47.591835, 47.833332, 48.080498, 48.33245 , 48.559437,\n",
       "       48.75866 , 48.934166, 49.08638 , 49.256752, 49.4403  , 49.632233,\n",
       "       49.85241 , 50.079247, 50.281406, 50.44776 , 50.585716, 50.657734,\n",
       "       50.78394 , 50.92825 , 51.10596 , 51.26523 , 51.34673 , 51.371857,\n",
       "       51.335014, 51.221176, 50.940983, 50.590595, 50.231808, 49.87501 ,\n",
       "       49.524494, 49.132046, 48.76455 , 48.38989 , 47.99366 , 47.592175,\n",
       "       47.196274, 46.81198 , 46.461422, 46.11475 , 45.766544, 45.498043,\n",
       "       45.325474, 45.253483, 45.30412 , 45.46097 , 45.705906, 45.992935,\n",
       "       46.294678, 46.57774 , 46.84699 , 47.14233 , 47.43696 , 47.735004,\n",
       "       48.015663, 48.270393, 48.465347, 48.655247, 48.833534, 48.977882,\n",
       "       49.130947, 49.296177, 49.480476, 49.668324, 49.80694 , 49.918537,\n",
       "       50.02771 , 50.115562, 50.201458, 50.302456, 50.40238 , 50.48551 ,\n",
       "       50.577587, 50.64015 , 50.727882, 50.846012, 50.978233, 51.097275,\n",
       "       51.20949 , 51.332226, 51.447617, 51.597084, 51.71589 , 51.76292 ,\n",
       "       51.648056, 51.465794, 51.267254, 51.112747, 50.970547, 50.83803 ,\n",
       "       50.8059  , 50.7793  , 50.746727, 50.76025 , 50.84418 , 50.972454,\n",
       "       51.148556, 51.347347, 51.450924, 51.524113, 51.54919 , 51.554806,\n",
       "       51.58335 , 51.62406 , 51.64022 , 51.6751  , 51.763668, 51.885017,\n",
       "       52.032825, 52.218143, 52.491726, 52.808414, 53.095764, 53.361748,\n",
       "       53.60953 , 53.855423, 54.071003, 54.223625, 54.337116, 54.40883 ,\n",
       "       54.483994, 54.54723 , 54.58913 , 54.667946, 54.775246, 54.839756,\n",
       "       54.891323, 54.995323, 55.131256, 55.2559  , 55.394188, 55.56695 ,\n",
       "       55.818127, 56.108315, 56.406555, 56.68717 , 56.952442, 57.207054,\n",
       "       57.48507 , 57.761566, 58.057785, 58.35871 , 58.680138, 59.026505,\n",
       "       59.31661 , 59.555393, 59.804497, 60.1212  , 60.48732 , 60.867455,\n",
       "       61.241413, 61.616444, 61.982727, 62.34756 , 62.693096, 63.03551 ,\n",
       "       63.342762, 63.643948, 63.94139 , 64.21555 , 64.43145 , 64.58701 ,\n",
       "       64.693   , 64.80693 , 64.901245, 65.01398 , 65.12881 , 65.20971 ,\n",
       "       65.21754 , 65.1985  , 65.200485, 65.26781 , 65.33921 , 65.42586 ,\n",
       "       65.54145 , 65.678154, 65.8593  , 66.10856 ], dtype=float32)"
      ]
     },
     "execution_count": 27,
     "metadata": {},
     "output_type": "execute_result"
    }
   ],
   "source": [
    "predict"
   ]
  },
  {
   "cell_type": "code",
   "execution_count": 28,
   "metadata": {
    "colab": {
     "base_uri": "https://localhost:8080/",
     "height": 123
    },
    "colab_type": "code",
    "id": "jdOAZii9izXM",
    "outputId": "53e7f74e-2060-4ce4-eabb-eb72c14d81da"
   },
   "outputs": [
    {
     "name": "stderr",
     "output_type": "stream",
     "text": [
      "<ipython-input-28-05d1c9c5167c>:3: SettingWithCopyWarning: \n",
      "A value is trying to be set on a copy of a slice from a DataFrame.\n",
      "Try using .loc[row_indexer,col_indexer] = value instead\n",
      "\n",
      "See the caveats in the documentation: https://pandas.pydata.org/pandas-docs/stable/user_guide/indexing.html#returning-a-view-versus-a-copy\n",
      "  valid['Predictions'] = predict\n"
     ]
    }
   ],
   "source": [
    "train = data[: training_data_len]\n",
    "valid = data[training_data_len:] \n",
    "valid['Predictions'] = predict\n",
    "#valid = predict"
   ]
  },
  {
   "cell_type": "code",
   "execution_count": 29,
   "metadata": {},
   "outputs": [
    {
     "data": {
      "text/html": [
       "<div>\n",
       "<style scoped>\n",
       "    .dataframe tbody tr th:only-of-type {\n",
       "        vertical-align: middle;\n",
       "    }\n",
       "\n",
       "    .dataframe tbody tr th {\n",
       "        vertical-align: top;\n",
       "    }\n",
       "\n",
       "    .dataframe thead th {\n",
       "        text-align: right;\n",
       "    }\n",
       "</style>\n",
       "<table border=\"1\" class=\"dataframe\">\n",
       "  <thead>\n",
       "    <tr style=\"text-align: right;\">\n",
       "      <th></th>\n",
       "      <th>Close</th>\n",
       "      <th>Predictions</th>\n",
       "    </tr>\n",
       "    <tr>\n",
       "      <th>Date</th>\n",
       "      <th></th>\n",
       "      <th></th>\n",
       "    </tr>\n",
       "  </thead>\n",
       "  <tbody>\n",
       "    <tr>\n",
       "      <th>2018-05-17</th>\n",
       "      <td>46.747501</td>\n",
       "      <td>45.446888</td>\n",
       "    </tr>\n",
       "    <tr>\n",
       "      <th>2018-05-18</th>\n",
       "      <td>46.577499</td>\n",
       "      <td>45.709103</td>\n",
       "    </tr>\n",
       "    <tr>\n",
       "      <th>2018-05-21</th>\n",
       "      <td>46.907501</td>\n",
       "      <td>45.919209</td>\n",
       "    </tr>\n",
       "    <tr>\n",
       "      <th>2018-05-22</th>\n",
       "      <td>46.790001</td>\n",
       "      <td>46.099121</td>\n",
       "    </tr>\n",
       "    <tr>\n",
       "      <th>2018-05-23</th>\n",
       "      <td>47.090000</td>\n",
       "      <td>46.246609</td>\n",
       "    </tr>\n",
       "    <tr>\n",
       "      <th>...</th>\n",
       "      <td>...</td>\n",
       "      <td>...</td>\n",
       "    </tr>\n",
       "    <tr>\n",
       "      <th>2019-12-11</th>\n",
       "      <td>67.692497</td>\n",
       "      <td>65.425858</td>\n",
       "    </tr>\n",
       "    <tr>\n",
       "      <th>2019-12-12</th>\n",
       "      <td>67.864998</td>\n",
       "      <td>65.541451</td>\n",
       "    </tr>\n",
       "    <tr>\n",
       "      <th>2019-12-13</th>\n",
       "      <td>68.787498</td>\n",
       "      <td>65.678154</td>\n",
       "    </tr>\n",
       "    <tr>\n",
       "      <th>2019-12-16</th>\n",
       "      <td>69.964996</td>\n",
       "      <td>65.859299</td>\n",
       "    </tr>\n",
       "    <tr>\n",
       "      <th>2019-12-17</th>\n",
       "      <td>70.102501</td>\n",
       "      <td>66.108559</td>\n",
       "    </tr>\n",
       "  </tbody>\n",
       "</table>\n",
       "<p>400 rows × 2 columns</p>\n",
       "</div>"
      ],
      "text/plain": [
       "                Close  Predictions\n",
       "Date                              \n",
       "2018-05-17  46.747501    45.446888\n",
       "2018-05-18  46.577499    45.709103\n",
       "2018-05-21  46.907501    45.919209\n",
       "2018-05-22  46.790001    46.099121\n",
       "2018-05-23  47.090000    46.246609\n",
       "...               ...          ...\n",
       "2019-12-11  67.692497    65.425858\n",
       "2019-12-12  67.864998    65.541451\n",
       "2019-12-13  68.787498    65.678154\n",
       "2019-12-16  69.964996    65.859299\n",
       "2019-12-17  70.102501    66.108559\n",
       "\n",
       "[400 rows x 2 columns]"
      ]
     },
     "execution_count": 29,
     "metadata": {},
     "output_type": "execute_result"
    }
   ],
   "source": [
    "valid"
   ]
  },
  {
   "cell_type": "code",
   "execution_count": 30,
   "metadata": {},
   "outputs": [],
   "source": [
    "#train['Close'][training_data_len:] = predict"
   ]
  },
  {
   "cell_type": "code",
   "execution_count": 31,
   "metadata": {
    "colab": {
     "base_uri": "https://localhost:8080/",
     "height": 521
    },
    "colab_type": "code",
    "id": "aQG2fbJ4jNwB",
    "outputId": "91be1e4c-fa61-4bae-e64f-07c5959f9e52"
   },
   "outputs": [
    {
     "data": {
      "image/png": "[encoded data removed]",
      "text/plain": [
       "<Figure size 1152x576 with 1 Axes>"
      ]
     },
     "metadata": {
      "needs_background": "light"
     },
     "output_type": "display_data"
    }
   ],
   "source": [
    "plt.figure(figsize=(16, 8))\n",
    "plt.title('Model')\n",
    "plt.xlabel('Date', fontsize=18)\n",
    "plt.ylabel('Close Price USD ($)', fontsize=18)\n",
    "plt.plot(train['Close'])\n",
    "plt.plot(valid[['Close', 'Predictions']])\n",
    "plt.legend(['Train', 'Val', 'Predictions'], loc='lower right')\n",
    "plt.show()\n"
   ]
  },
  {
   "cell_type": "code",
   "execution_count": 32,
   "metadata": {
    "colab": {
     "base_uri": "https://localhost:8080/",
     "height": 436
    },
    "colab_type": "code",
    "id": "n4VY5pA3jWVk",
    "outputId": "7c5b6b78-829e-43bc-f744-6c4332b73784"
   },
   "outputs": [
    {
     "data": {
      "text/html": [
       "<div>\n",
       "<style scoped>\n",
       "    .dataframe tbody tr th:only-of-type {\n",
       "        vertical-align: middle;\n",
       "    }\n",
       "\n",
       "    .dataframe tbody tr th {\n",
       "        vertical-align: top;\n",
       "    }\n",
       "\n",
       "    .dataframe thead th {\n",
       "        text-align: right;\n",
       "    }\n",
       "</style>\n",
       "<table border=\"1\" class=\"dataframe\">\n",
       "  <thead>\n",
       "    <tr style=\"text-align: right;\">\n",
       "      <th></th>\n",
       "      <th>Close</th>\n",
       "      <th>Predictions</th>\n",
       "    </tr>\n",
       "    <tr>\n",
       "      <th>Date</th>\n",
       "      <th></th>\n",
       "      <th></th>\n",
       "    </tr>\n",
       "  </thead>\n",
       "  <tbody>\n",
       "    <tr>\n",
       "      <th>2018-05-17</th>\n",
       "      <td>46.747501</td>\n",
       "      <td>45.446888</td>\n",
       "    </tr>\n",
       "    <tr>\n",
       "      <th>2018-05-18</th>\n",
       "      <td>46.577499</td>\n",
       "      <td>45.709103</td>\n",
       "    </tr>\n",
       "    <tr>\n",
       "      <th>2018-05-21</th>\n",
       "      <td>46.907501</td>\n",
       "      <td>45.919209</td>\n",
       "    </tr>\n",
       "    <tr>\n",
       "      <th>2018-05-22</th>\n",
       "      <td>46.790001</td>\n",
       "      <td>46.099121</td>\n",
       "    </tr>\n",
       "    <tr>\n",
       "      <th>2018-05-23</th>\n",
       "      <td>47.090000</td>\n",
       "      <td>46.246609</td>\n",
       "    </tr>\n",
       "    <tr>\n",
       "      <th>...</th>\n",
       "      <td>...</td>\n",
       "      <td>...</td>\n",
       "    </tr>\n",
       "    <tr>\n",
       "      <th>2019-12-11</th>\n",
       "      <td>67.692497</td>\n",
       "      <td>65.425858</td>\n",
       "    </tr>\n",
       "    <tr>\n",
       "      <th>2019-12-12</th>\n",
       "      <td>67.864998</td>\n",
       "      <td>65.541451</td>\n",
       "    </tr>\n",
       "    <tr>\n",
       "      <th>2019-12-13</th>\n",
       "      <td>68.787498</td>\n",
       "      <td>65.678154</td>\n",
       "    </tr>\n",
       "    <tr>\n",
       "      <th>2019-12-16</th>\n",
       "      <td>69.964996</td>\n",
       "      <td>65.859299</td>\n",
       "    </tr>\n",
       "    <tr>\n",
       "      <th>2019-12-17</th>\n",
       "      <td>70.102501</td>\n",
       "      <td>66.108559</td>\n",
       "    </tr>\n",
       "  </tbody>\n",
       "</table>\n",
       "<p>400 rows × 2 columns</p>\n",
       "</div>"
      ],
      "text/plain": [
       "                Close  Predictions\n",
       "Date                              \n",
       "2018-05-17  46.747501    45.446888\n",
       "2018-05-18  46.577499    45.709103\n",
       "2018-05-21  46.907501    45.919209\n",
       "2018-05-22  46.790001    46.099121\n",
       "2018-05-23  47.090000    46.246609\n",
       "...               ...          ...\n",
       "2019-12-11  67.692497    65.425858\n",
       "2019-12-12  67.864998    65.541451\n",
       "2019-12-13  68.787498    65.678154\n",
       "2019-12-16  69.964996    65.859299\n",
       "2019-12-17  70.102501    66.108559\n",
       "\n",
       "[400 rows x 2 columns]"
      ]
     },
     "execution_count": 32,
     "metadata": {},
     "output_type": "execute_result"
    }
   ],
   "source": [
    "valid"
   ]
  },
  {
   "cell_type": "code",
   "execution_count": 33,
   "metadata": {
    "colab": {
     "base_uri": "https://localhost:8080/",
     "height": 34
    },
    "colab_type": "code",
    "id": "1qClhb2EjZpP",
    "outputId": "3c1ec493-b7c2-4b1a-87d5-7ddf473620fe"
   },
   "outputs": [
    {
     "name": "stdout",
     "output_type": "stream",
     "text": [
      "[[66.39794]]\n"
     ]
    }
   ],
   "source": [
    "apple_quote = web.DataReader('AAPL', data_source='yahoo', start='2012-01-01', end='2019-12-17')\n",
    "\n",
    "\n",
    "new_df = apple_quote.filter(['Close'])\n",
    "\n",
    "\n",
    "last_60_days = new_df[-60:].values\n",
    "\n",
    "\n",
    "last_60_days_scaled = scaler.transform(last_60_days)\n",
    "\n",
    "\n",
    "X_test = []\n",
    "\n",
    "\n",
    "X_test.append(last_60_days_scaled)\n",
    "\n",
    "\n",
    "X_test = np.array(X_test)\n",
    "\n",
    "\n",
    "X_test = np.reshape(X_test, (X_test.shape[0], X_test.shape[1], 1))\n",
    "\n",
    "\n",
    "pred_price = model.predict(X_test)\n",
    "\n",
    "pred_price = scaler.inverse_transform(pred_price)\n",
    "print(pred_price)"
   ]
  },
  {
   "cell_type": "code",
   "execution_count": 34,
   "metadata": {
    "colab": {
     "base_uri": "https://localhost:8080/",
     "height": 70
    },
    "colab_type": "code",
    "id": "PGIz_JqPj4gL",
    "outputId": "100e51d4-7cb7-4f94-f952-fb51835d9a73"
   },
   "outputs": [
    {
     "name": "stdout",
     "output_type": "stream",
     "text": [
      "Date\n",
      "2019-12-17    70.102501\n",
      "2019-12-18    69.934998\n",
      "Name: Close, dtype: float64\n"
     ]
    }
   ],
   "source": [
    "apple_quote2 = web.DataReader('AAPL', data_source='yahoo', start='2019-12-18', end='2019-12-18')\n",
    "print(apple_quote2['Close'])"
   ]
  },
  {
   "cell_type": "code",
   "execution_count": null,
   "metadata": {
    "colab": {},
    "colab_type": "code",
    "id": "dn44VPaaj6jt"
   },
   "outputs": [],
   "source": []
  }
 ],
 "metadata": {
  "colab": {
   "name": "stock.ipynb",
   "provenance": []
  },
  "kernelspec": {
   "display_name": "Python 3",
   "language": "python",
   "name": "python3"
  },
  "language_info": {
   "codemirror_mode": {
    "name": "ipython",
    "version": 3
   },
   "file_extension": ".py",
   "mimetype": "text/x-python",
   "name": "python",
   "nbconvert_exporter": "python",
   "pygments_lexer": "ipython3",
   "version": "3.8.3"
  }
 },
 "nbformat": 4,
 "nbformat_minor": 4
}
